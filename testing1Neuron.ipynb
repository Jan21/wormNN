{
 "cells": [
  {
   "cell_type": "code",
   "execution_count": 3,
   "metadata": {
    "collapsed": true
   },
   "outputs": [],
   "source": [
    "import brian2 as b2\n",
    "from neurodynex.tools import input_factory, plot_tools\n",
    "import random\n",
    "import matplotlib.pyplot as plt\n",
    "\n",
    "# Neuron model default values\n",
    "V_REST = -70 * b2.mV\n",
    "V_RESET = -65 * b2.mV\n",
    "FIRING_THRESHOLD = -50 * b2.mV\n",
    "MEMBRANE_RESISTANCE = 10. * b2.Mohm\n",
    "MEMBRANE_TIME_SCALE = 8. * b2.ms\n",
    "ABSOLUTE_REFRACTORY_PERIOD = 2.0 * b2.ms\n",
    "\n",
    "\n",
    "def simulate_LIF_neuron(input_current,\n",
    "                        simulation_time=5 * b2.ms,\n",
    "                        v_rest=V_REST,\n",
    "                        v_reset=V_RESET,\n",
    "                        firing_threshold=FIRING_THRESHOLD,\n",
    "                        membrane_resistance=MEMBRANE_RESISTANCE,\n",
    "                        membrane_time_scale=MEMBRANE_TIME_SCALE,\n",
    "                        abs_refractory_period=ABSOLUTE_REFRACTORY_PERIOD):\n",
    "    \"\"\"Basic leaky integrate and fire neuron implementation.\n",
    "\n",
    "    Args:\n",
    "        input_current (TimedArray): TimedArray of current amplitudes. One column per current_injection_location.\n",
    "        simulation_time (Quantity): Time for which the dynamics are simulated: 5ms\n",
    "        v_rest (Quantity): Resting potential: -70mV\n",
    "        v_reset (Quantity): Reset voltage after spike - 65mV\n",
    "        firing_threshold (Quantity) Voltage threshold for spiking -50mV\n",
    "        membrane_resistance (Quantity): 10Mohm\n",
    "        membrane_time_scale (Quantity): 8ms\n",
    "        abs_refractory_period (Quantity): 2ms\n",
    "\n",
    "    Returns:\n",
    "        StateMonitor: Brian2 StateMonitor for the membrane voltage \"v\"\n",
    "        SpikeMonitor: Biran2 SpikeMonitor\n",
    "    \"\"\"\n",
    "\n",
    "    # differential equation of Leaky Integrate-and-Fire model\n",
    "    eqs = \"\"\"\n",
    "    dv/dt =\n",
    "    ( -(v-v_rest) + membrane_resistance * input_current(t,i) ) / membrane_time_scale : volt (unless refractory)\"\"\"\n",
    "\n",
    "    # LIF neuron using Brian2 library\n",
    "    neuron = b2.NeuronGroup(\n",
    "        1, model=eqs, reset=\"v=v_reset\", threshold=\"v>firing_threshold\",\n",
    "        refractory=abs_refractory_period, method=\"linear\")\n",
    "    neuron.v = v_rest  # set initial value\n",
    "\n",
    "    # monitoring membrane potential of neuron and injecting current\n",
    "    state_monitor = b2.StateMonitor(neuron, [\"v\"], record=True)\n",
    "    # run the simulation\n",
    "    b2.run(simulation_time)\n",
    "    return state_monitor\n",
    "\n",
    "\n",
    "\n",
    "def testIt():\n",
    "    \"\"\"\n",
    "    An example to quickly get started with the LIF module.\n",
    "    Returns:\n",
    "\n",
    "    \"\"\"\n",
    "    # specify step current\n",
    "    step_current = input_factory.get_step_current(\n",
    "        t_start=100, t_end=200, unit_time=b2.ms,\n",
    "        amplitude=1.2 * b2.namp)\n",
    "    # run the LIF model\n",
    "    state_monitor = simulate_LIF_neuron( input_current=step_current, simulation_time=300 * b2.ms)\n",
    "\n",
    "    # plot the membrane voltage\n",
    "    plot_tools.plot_voltage_and_current_traces(state_monitor, step_current,\n",
    "                                               title=\"Step current\", firing_threshold=FIRING_THRESHOLD)\n",
    "    plt.show()\n",
    "\n",
    "\n",
    "testIt()"
   ]
  },
  {
   "cell_type": "code",
   "execution_count": 4,
   "metadata": {},
   "outputs": [
    {
     "data": {
      "image/png": "[encoded data removed]",
      "text/plain": [
       "<matplotlib.figure.Figure at 0x463bcc0>"
      ]
     },
     "metadata": {},
     "output_type": "display_data"
    }
   ],
   "source": [
    ""
   ]
  },
  {
   "cell_type": "code",
   "execution_count": null,
   "metadata": {},
   "outputs": [],
   "source": []
  }
 ],
 "metadata": {
  "kernelspec": {
   "display_name": "Python 2",
   "language": "python",
   "name": "python2"
  },
  "language_info": {
   "codemirror_mode": {
    "name": "ipython",
    "version": 2
   },
   "file_extension": ".py",
   "mimetype": "text/x-python",
   "name": "python",
   "nbconvert_exporter": "python",
   "pygments_lexer": "ipython2",
   "version": "2.7.6"
  }
 },
 "nbformat": 4,
 "nbformat_minor": 0
}
